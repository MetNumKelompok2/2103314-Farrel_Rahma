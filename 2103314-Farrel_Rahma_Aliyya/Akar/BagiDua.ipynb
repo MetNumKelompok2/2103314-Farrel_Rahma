{
 "cells": [
  {
   "cell_type": "code",
   "execution_count": null,
   "metadata": {},
   "outputs": [],
   "source": []
  },
  {
   "cell_type": "code",
   "execution_count": null,
   "metadata": {},
   "outputs": [],
   "source": [
    "# Nama  : Farrel Rahma Aliyya\n",
    "# NIM   : 2103314\n",
    "# Akar Bagi Dua\n",
    "\n",
    "import numpy as np\n",
    "import matplotlib.pyplot as plt\n",
    "\n",
    "def f(xc, x) :\n",
    "    return eval(xc)\n",
    "fx = input(\"Masukan fungsi =\")\n",
    "a = eval(input(\"Masukan nilai a = \"))\n",
    "b = eval(input(\"Masukan nilai b = \"))\n",
    "c = 0\n",
    "e = eval (input(\"Masukan nilai e = \")) #nilai epsilon\n",
    "batas = eval (input(\"Masukan batas iterasi =\"))\n",
    "\n",
    "def bagiDua(a, b, e):\n",
    "    if f(fx, a) * f(fx, b) > 0:\n",
    "                print(\"Tidak memiliki akar persamaan\")\n",
    "    else:\n",
    "        print(\"|   n   |   a   |   c   |   b   |  f(a) |  f(c) |  f(b) | (a-b) |\")\n",
    "        i=1\n",
    "        while(abs(a-b) > e and i<=batas):\n",
    "            c = (a+b)/2\n",
    "            if(f(fx,a)*f(fx,c) < 0):\n",
    "                print(\"|   %d   |%7.3f|%7.3f|%7.3f|%7.3f|%7.3f|%7.3f|%7.3f| [a,c] |\"%(i,a,c,b, f(fx,a), f(fx,c), f(fx,b), abs(a-b)))\n",
    "                b = c\n",
    "                i+=1\n",
    "            else:\n",
    "                print(\"|   %d   |%7.3f|%7.3f|%7.3f|%7.3f|%7.3f|%7.3f|%7.3f| [c,b] |\"%(i,a,c,b, f(fx,a), f(fx,c), f(fx,b), abs(a-b)))\n",
    "                a = c\n",
    "                i+=1        \n",
    "        print(\"Akar hampiran adalah %7.3f\"%(c))\n",
    "        return(c)\n",
    "    \n",
    "# memanggil Fungsi Bagi Dua\n",
    "bagiDua(a, b, e)\n",
    "c = np.linspace(a, b, 100)\n",
    "plt.plot(c, f(fx, c))\n",
    "plt.grid()\n",
    "plt.title(\"Grafik Fungsi\")\n",
    "plt.show()"
   ]
  },
  {
   "cell_type": "code",
   "execution_count": null,
   "metadata": {},
   "outputs": [
    {
     "name": "stdout",
     "output_type": "stream",
     "text": [
      "25\n"
     ]
    }
   ],
   "source": [
    "a=5\n",
    "print(a*5)\n"
   ]
  }
 ],
 "metadata": {
  "kernelspec": {
   "display_name": "Python 3",
   "language": "python",
   "name": "python3"
  },
  "language_info": {
   "codemirror_mode": {
    "name": "ipython",
    "version": 3
   },
   "file_extension": ".py",
   "mimetype": "text/x-python",
   "name": "python",
   "nbconvert_exporter": "python",
   "pygments_lexer": "ipython3",
   "version": "3.10.6 (tags/v3.10.6:9c7b4bd, Aug  1 2022, 21:53:49) [MSC v.1932 64 bit (AMD64)]"
  },
  "orig_nbformat": 4,
  "vscode": {
   "interpreter": {
    "hash": "031d389f860b2ef608f65e9761a8efd3dd517e4a4cd46bc3b2ace5990be93647"
   }
  }
 },
 "nbformat": 4,
 "nbformat_minor": 2
}
